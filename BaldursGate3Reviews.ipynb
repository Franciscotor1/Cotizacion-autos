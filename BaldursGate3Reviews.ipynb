{
  "nbformat": 4,
  "nbformat_minor": 0,
  "metadata": {
    "colab": {
      "provenance": [],
      "authorship_tag": "ABX9TyNCagrR6Lo8/a2gir2jDdOR",
      "include_colab_link": true
    },
    "kernelspec": {
      "name": "python3",
      "display_name": "Python 3"
    },
    "language_info": {
      "name": "python"
    }
  },
  "cells": [
    {
      "cell_type": "markdown",
      "metadata": {
        "id": "view-in-github",
        "colab_type": "text"
      },
      "source": [
        "<a href=\"https://colab.research.google.com/github/Franciscotor1/Cotizacion-autos/blob/master/BaldursGate3Reviews.ipynb\" target=\"_parent\"><img src=\"https://colab.research.google.com/assets/colab-badge.svg\" alt=\"Open In Colab\"/></a>"
      ]
    },
    {
      "cell_type": "code",
      "source": [
        "# Instala Java\n",
        "!apt-get install openjdk-8-jdk-headless -qq > /dev/null\n",
        "\n",
        "# Descarga e instala Apache Spark\n",
        "!wget -q https://archive.apache.org/dist/spark/spark-3.1.2/spark-3.1.2-bin-hadoop3.2.tgz\n",
        "!tar xf spark-3.1.2-bin-hadoop3.2.tgz\n",
        "!pip install -q findspark\n",
        "\n",
        "# Configura las variables de entorno\n",
        "import os\n",
        "os.environ[\"JAVA_HOME\"] = \"/usr/lib/jvm/java-8-openjdk-amd64\"\n",
        "os.environ[\"SPARK_HOME\"] = \"/content/spark-3.1.2-bin-hadoop3.2\"\n",
        "\n",
        "# Añade Spark al sistema\n",
        "import findspark\n",
        "findspark.init()\n",
        "\n",
        "# Crea una sesión Spark\n",
        "from pyspark.sql import SparkSession\n",
        "spark = SparkSession.builder.master(\"local[*]\").appName(\"example\").getOrCreate()\n"
      ],
      "metadata": {
        "id": "-sdhTXhwc7gh"
      },
      "execution_count": 1,
      "outputs": []
    },
    {
      "cell_type": "code",
      "source": [
        "spark.version"
      ],
      "metadata": {
        "id": "eNxHlCeXAfez",
        "colab": {
          "base_uri": "https://localhost:8080/",
          "height": 36
        },
        "outputId": "bbadd414-24df-4edf-dc95-ce009ee691dd"
      },
      "execution_count": 2,
      "outputs": [
        {
          "output_type": "execute_result",
          "data": {
            "text/plain": [
              "'3.1.2'"
            ],
            "application/vnd.google.colaboratory.intrinsic+json": {
              "type": "string"
            }
          },
          "metadata": {},
          "execution_count": 2
        }
      ]
    },
    {
      "cell_type": "code",
      "source": [
        "from pyspark.sql import SparkSession\n",
        "\n",
        "# Crear una sesión Spark\n",
        "spark = SparkSession.builder.master(\"local[*]\").appName(\"example\").getOrCreate()\n",
        "\n",
        "# Cargar el archivo CSV en un DataFrame de Spark\n",
        "file_path = \"/content/baldursgate3.csv\"  # Asegúrate de que la ruta sea correcta\n",
        "df = spark.read.csv(file_path, header=True, inferSchema=True)\n"
      ],
      "metadata": {
        "id": "Gf6eKdkeXUcg"
      },
      "execution_count": 3,
      "outputs": []
    },
    {
      "cell_type": "code",
      "source": [
        "df.printSchema()"
      ],
      "metadata": {
        "colab": {
          "base_uri": "https://localhost:8080/"
        },
        "id": "G--u_1xRYx5D",
        "outputId": "ce5ee603-53c9-4718-e31f-6bcd5feb6ead"
      },
      "execution_count": 4,
      "outputs": [
        {
          "output_type": "stream",
          "name": "stdout",
          "text": [
            "root\n",
            " |-- recommendationid: string (nullable = true)\n",
            " |-- language: string (nullable = true)\n",
            " |-- review: string (nullable = true)\n",
            " |-- timestamp_created: string (nullable = true)\n",
            " |-- timestamp_updated: string (nullable = true)\n",
            " |-- voted_up: string (nullable = true)\n",
            " |-- votes_up: string (nullable = true)\n",
            " |-- votes_funny: string (nullable = true)\n",
            " |-- weighted_vote_score: string (nullable = true)\n",
            " |-- written_during_early_access: string (nullable = true)\n",
            " |-- comment_count: string (nullable = true)\n",
            " |-- steam_purchase: string (nullable = true)\n",
            " |-- received_for_free: string (nullable = true)\n",
            "\n"
          ]
        }
      ]
    },
    {
      "cell_type": "code",
      "source": [
        "df.show(5)\n"
      ],
      "metadata": {
        "colab": {
          "base_uri": "https://localhost:8080/"
        },
        "id": "oecPfSTRY6fz",
        "outputId": "890affad-2882-4105-8a3d-ca8e8e835395"
      },
      "execution_count": 5,
      "outputs": [
        {
          "output_type": "stream",
          "name": "stdout",
          "text": [
            "+----------------+--------+--------------------+-----------------+-----------------+--------+--------+-----------+-------------------+---------------------------+-------------+--------------+-----------------+\n",
            "|recommendationid|language|              review|timestamp_created|timestamp_updated|voted_up|votes_up|votes_funny|weighted_vote_score|written_during_early_access|comment_count|steam_purchase|received_for_free|\n",
            "+----------------+--------+--------------------+-----------------+-----------------+--------+--------+-----------+-------------------+---------------------------+-------------+--------------+-----------------+\n",
            "|       153560814| english|This game hits al...|       1702542971|       1702542971|    TRUE|       0|          0|                  0|                      FALSE|            0|          TRUE|            FALSE|\n",
            "|       153560623| english|took me like 11 h...|       1702542657|       1702542657|    TRUE|       0|          0|                  0|                      FALSE|            0|          TRUE|            FALSE|\n",
            "|       153560414| english|10/10 game play a...|       1702542275|       1702542275|    TRUE|       0|          0|                  0|                      FALSE|            0|          TRUE|            FALSE|\n",
            "|       153560343| english|gale is so baby girl|       1702542158|       1702542158|    TRUE|       0|          0|                  0|                      FALSE|            0|          TRUE|            FALSE|\n",
            "|       153559963| english|                YES,|             null|             null|    null|    null|       null|               null|                       null|         null|          null|             null|\n",
            "+----------------+--------+--------------------+-----------------+-----------------+--------+--------+-----------+-------------------+---------------------------+-------------+--------------+-----------------+\n",
            "only showing top 5 rows\n",
            "\n"
          ]
        }
      ]
    },
    {
      "cell_type": "code",
      "source": [
        "total_reviews = df.count()\n",
        "print(\"Número total de revisiones:\", total_reviews)\n"
      ],
      "metadata": {
        "colab": {
          "base_uri": "https://localhost:8080/"
        },
        "id": "gghni98TY-ol",
        "outputId": "9d2755da-6817-4f67-9ad3-c6b2f80fb9d1"
      },
      "execution_count": 6,
      "outputs": [
        {
          "output_type": "stream",
          "name": "stdout",
          "text": [
            "Número total de revisiones: 518102\n"
          ]
        }
      ]
    },
    {
      "cell_type": "code",
      "source": [
        "from pyspark.sql.functions import col\n",
        "from pyspark.sql.types import IntegerType, BooleanType, DoubleType, LongType\n",
        "\n",
        "# Convertir columnas a tipos de datos apropiados\n",
        "df = df.withColumn(\"timestamp_created\", df[\"timestamp_created\"].cast(LongType()))\n",
        "df = df.withColumn(\"timestamp_updated\", df[\"timestamp_updated\"].cast(LongType()))\n",
        "df = df.withColumn(\"voted_up\", df[\"voted_up\"].cast(BooleanType()))\n",
        "df = df.withColumn(\"votes_up\", df[\"votes_up\"].cast(IntegerType()))\n",
        "df = df.withColumn(\"votes_funny\", df[\"votes_funny\"].cast(IntegerType()))\n",
        "df = df.withColumn(\"weighted_vote_score\", df[\"weighted_vote_score\"].cast(DoubleType()))\n",
        "df = df.withColumn(\"written_during_early_access\", df[\"written_during_early_access\"].cast(BooleanType()))\n",
        "df = df.withColumn(\"comment_count\", df[\"comment_count\"].cast(IntegerType()))\n",
        "df = df.withColumn(\"steam_purchase\", df[\"steam_purchase\"].cast(BooleanType()))\n",
        "df = df.withColumn(\"received_for_free\", df[\"received_for_free\"].cast(BooleanType()))\n",
        "\n",
        "# Mostrar el esquema actualizado\n",
        "df.printSchema()\n"
      ],
      "metadata": {
        "colab": {
          "base_uri": "https://localhost:8080/"
        },
        "id": "KslhdKLPaDxC",
        "outputId": "cdda3bcf-7aa5-4bce-d138-cc00477a3299"
      },
      "execution_count": 7,
      "outputs": [
        {
          "output_type": "stream",
          "name": "stdout",
          "text": [
            "root\n",
            " |-- recommendationid: string (nullable = true)\n",
            " |-- language: string (nullable = true)\n",
            " |-- review: string (nullable = true)\n",
            " |-- timestamp_created: long (nullable = true)\n",
            " |-- timestamp_updated: long (nullable = true)\n",
            " |-- voted_up: boolean (nullable = true)\n",
            " |-- votes_up: integer (nullable = true)\n",
            " |-- votes_funny: integer (nullable = true)\n",
            " |-- weighted_vote_score: double (nullable = true)\n",
            " |-- written_during_early_access: boolean (nullable = true)\n",
            " |-- comment_count: integer (nullable = true)\n",
            " |-- steam_purchase: boolean (nullable = true)\n",
            " |-- received_for_free: boolean (nullable = true)\n",
            "\n"
          ]
        }
      ]
    },
    {
      "cell_type": "code",
      "source": [
        "df.describe([\"votes_up\", \"votes_funny\", \"comment_count\", \"weighted_vote_score\"]).show()\n"
      ],
      "metadata": {
        "colab": {
          "base_uri": "https://localhost:8080/"
        },
        "id": "fRzwLodhaV6f",
        "outputId": "a9742426-e06d-434f-d4bc-f6b011371a69"
      },
      "execution_count": 8,
      "outputs": [
        {
          "output_type": "stream",
          "name": "stdout",
          "text": [
            "+-------+--------------------+--------------------+-------------------+-------------------+\n",
            "|summary|            votes_up|         votes_funny|      comment_count|weighted_vote_score|\n",
            "+-------+--------------------+--------------------+-------------------+-------------------+\n",
            "|  count|              295193|              269819|             258145|             287623|\n",
            "|   mean|1.5473706718496034E7|1.0159547688502293E7|  2362349.401371322|  5810425.221443001|\n",
            "| stddev|  1.60572080755906E8|1.3026095585011157E8|6.296448838106158E7|9.863587472439855E7|\n",
            "|    min|                   0|                   0|                  0|                0.0|\n",
            "|    max|          1702532552|          1702499012|         1702372383|      1.702512969E9|\n",
            "+-------+--------------------+--------------------+-------------------+-------------------+\n",
            "\n"
          ]
        }
      ]
    },
    {
      "cell_type": "code",
      "source": [
        "df.groupBy(\"language\").agg({\"votes_up\": \"avg\", \"comment_count\": \"sum\"}).show()\n"
      ],
      "metadata": {
        "colab": {
          "base_uri": "https://localhost:8080/"
        },
        "id": "RqON_WN0afcg",
        "outputId": "41c50409-ac8e-447b-b87c-11a95dee33e2"
      },
      "execution_count": 9,
      "outputs": [
        {
          "output_type": "stream",
          "name": "stdout",
          "text": [
            "+--------------------+------------------+-------------+\n",
            "|            language|sum(comment_count)|avg(votes_up)|\n",
            "+--------------------+------------------+-------------+\n",
            "|                 -' |              null|         null|\n",
            "|          1702523972|              null|          0.0|\n",
            "| I really wish I ...|              null|         null|\n",
            "| and details are ...|              null|         null|\n",
            "| with its beautif...|              null|         null|\n",
            "|          1701880924|              null|          0.0|\n",
            "|          1701696847|              null|          0.0|\n",
            "|                 far|              null|         null|\n",
            "| especially fans ...|              null|         null|\n",
            "| I had no idea wh...|              null|         null|\n",
            "| my character suc...|              null|          0.0|\n",
            "| luckily BG3 skip...|              null|         null|\n",
            "| the storytelling...|              null|         null|\n",
            "| but by god they ...|              null|         null|\n",
            "|          1701181392|              null|          0.0|\n",
            "| because I’m gonn...|              null|         null|\n",
            "|          1701137555|              null|          0.0|\n",
            "|          1701081395|              null|          0.0|\n",
            "| nothing major bu...|              null|         null|\n",
            "|          1700957207|              null|          0.0|\n",
            "+--------------------+------------------+-------------+\n",
            "only showing top 20 rows\n",
            "\n"
          ]
        }
      ]
    },
    {
      "cell_type": "code",
      "source": [
        "df_cleaned = df.na.drop(subset=[\"comment_count\", \"votes_up\"])\n",
        "summary_result = df_cleaned.groupBy(\"language\").agg({\"comment_count\": \"sum\", \"votes_up\": \"avg\"})\n",
        "summary_result.show()\n"
      ],
      "metadata": {
        "colab": {
          "base_uri": "https://localhost:8080/"
        },
        "id": "oZk1XOrnb8BM",
        "outputId": "2206943a-2f6f-450c-c886-8d37cd16869b"
      },
      "execution_count": 10,
      "outputs": [
        {
          "output_type": "stream",
          "name": "stdout",
          "text": [
            "+--------------------+------------------+-------------+\n",
            "|            language|sum(comment_count)|avg(votes_up)|\n",
            "+--------------------+------------------+-------------+\n",
            "| because it mimic...|                 0|          1.0|\n",
            "| after almost 4 m...|                 0|1.700860764E9|\n",
            "| detailed charact...|                 0|          0.0|\n",
            "| Baldurs Gate 3 i...|                 0|1.700620375E9|\n",
            "|  great with friends|                 0|          0.0|\n",
            "| with a lot of co...|                 0|          0.0|\n",
            "| Baldur's Gate 3 ...|                 0|          1.0|\n",
            "| BG3 is a masterp...|                 0|          0.0|\n",
            "|           reactions|                 0|          1.0|\n",
            "| and the game con...|                 0|          1.0|\n",
            "|      character menu|                 0|          4.0|\n",
            "| Baldur's Gate 3 ...|                 0|1.694400854E9|\n",
            "|      good graphics |                 0|          0.0|\n",
            "|         it's a very|                 0|1.694231613E9|\n",
            "|   story you explore|                 0|1.693896261E9|\n",
            "| great game mecha...|                 0|1.693748764E9|\n",
            "| if you're feelin...|                 0|1.693418598E9|\n",
            "|       vampire rogue|                 0|1.693121609E9|\n",
            "| as well as their...|                 0|          0.0|\n",
            "| didn't try to fi...|                 0|          0.0|\n",
            "+--------------------+------------------+-------------+\n",
            "only showing top 20 rows\n",
            "\n"
          ]
        }
      ]
    },
    {
      "cell_type": "code",
      "source": [],
      "metadata": {
        "id": "tAorDkoheA9d"
      },
      "execution_count": null,
      "outputs": []
    },
    {
      "cell_type": "code",
      "source": [],
      "metadata": {
        "id": "qXgHFm7ecbwx"
      },
      "execution_count": null,
      "outputs": []
    }
  ]
}